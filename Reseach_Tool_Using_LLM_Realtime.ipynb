{
  "nbformat": 4,
  "nbformat_minor": 0,
  "metadata": {
    "colab": {
      "provenance": [],
      "authorship_tag": "ABX9TyPFaxdOD9QEdhrhueKZh+Ai",
      "include_colab_link": true
    },
    "kernelspec": {
      "name": "python3",
      "display_name": "Python 3"
    },
    "language_info": {
      "name": "python"
    }
  },
  "cells": [
    {
      "cell_type": "markdown",
      "metadata": {
        "id": "view-in-github",
        "colab_type": "text"
      },
      "source": [
        "<a href=\"https://colab.research.google.com/github/deyvang/3D-Room-Project/blob/master/Reseach_Tool_Using_LLM_Realtime.ipynb\" target=\"_parent\"><img src=\"https://colab.research.google.com/assets/colab-badge.svg\" alt=\"Open In Colab\"/></a>"
      ]
    },
    {
      "cell_type": "markdown",
      "source": [
        "*Installing Langchain Into Environment variable*"
      ],
      "metadata": {
        "id": "L3YG59Zrk5u3"
      }
    },
    {
      "cell_type": "code",
      "execution_count": 1,
      "metadata": {
        "colab": {
          "base_uri": "https://localhost:8080/"
        },
        "id": "-ATQ7UHQBzUm",
        "outputId": "02157f15-c07b-480f-b649-1c605f75ade8"
      },
      "outputs": [
        {
          "output_type": "stream",
          "name": "stdout",
          "text": [
            "Collecting langchain\n",
            "  Downloading langchain-0.1.16-py3-none-any.whl (817 kB)\n",
            "\u001b[2K     \u001b[90m━━━━━━━━━━━━━━━━━━━━━━━━━━━━━━━━━━━━━━━━\u001b[0m \u001b[32m817.7/817.7 kB\u001b[0m \u001b[31m6.1 MB/s\u001b[0m eta \u001b[36m0:00:00\u001b[0m\n",
            "\u001b[?25hRequirement already satisfied: PyYAML>=5.3 in /usr/local/lib/python3.10/dist-packages (from langchain) (6.0.1)\n",
            "Requirement already satisfied: SQLAlchemy<3,>=1.4 in /usr/local/lib/python3.10/dist-packages (from langchain) (2.0.29)\n",
            "Requirement already satisfied: aiohttp<4.0.0,>=3.8.3 in /usr/local/lib/python3.10/dist-packages (from langchain) (3.9.3)\n",
            "Requirement already satisfied: async-timeout<5.0.0,>=4.0.0 in /usr/local/lib/python3.10/dist-packages (from langchain) (4.0.3)\n",
            "Collecting dataclasses-json<0.7,>=0.5.7 (from langchain)\n",
            "  Downloading dataclasses_json-0.6.4-py3-none-any.whl (28 kB)\n",
            "Collecting jsonpatch<2.0,>=1.33 (from langchain)\n",
            "  Downloading jsonpatch-1.33-py2.py3-none-any.whl (12 kB)\n",
            "Collecting langchain-community<0.1,>=0.0.32 (from langchain)\n",
            "  Downloading langchain_community-0.0.32-py3-none-any.whl (1.9 MB)\n",
            "\u001b[2K     \u001b[90m━━━━━━━━━━━━━━━━━━━━━━━━━━━━━━━━━━━━━━━━\u001b[0m \u001b[32m1.9/1.9 MB\u001b[0m \u001b[31m33.9 MB/s\u001b[0m eta \u001b[36m0:00:00\u001b[0m\n",
            "\u001b[?25hCollecting langchain-core<0.2.0,>=0.1.42 (from langchain)\n",
            "  Downloading langchain_core-0.1.42-py3-none-any.whl (287 kB)\n",
            "\u001b[2K     \u001b[90m━━━━━━━━━━━━━━━━━━━━━━━━━━━━━━━━━━━━━━━━\u001b[0m \u001b[32m287.5/287.5 kB\u001b[0m \u001b[31m16.7 MB/s\u001b[0m eta \u001b[36m0:00:00\u001b[0m\n",
            "\u001b[?25hCollecting langchain-text-splitters<0.1,>=0.0.1 (from langchain)\n",
            "  Downloading langchain_text_splitters-0.0.1-py3-none-any.whl (21 kB)\n",
            "Collecting langsmith<0.2.0,>=0.1.17 (from langchain)\n",
            "  Downloading langsmith-0.1.45-py3-none-any.whl (104 kB)\n",
            "\u001b[2K     \u001b[90m━━━━━━━━━━━━━━━━━━━━━━━━━━━━━━━━━━━━━━━━\u001b[0m \u001b[32m104.2/104.2 kB\u001b[0m \u001b[31m6.1 MB/s\u001b[0m eta \u001b[36m0:00:00\u001b[0m\n",
            "\u001b[?25hRequirement already satisfied: numpy<2,>=1 in /usr/local/lib/python3.10/dist-packages (from langchain) (1.25.2)\n",
            "Requirement already satisfied: pydantic<3,>=1 in /usr/local/lib/python3.10/dist-packages (from langchain) (2.6.4)\n",
            "Requirement already satisfied: requests<3,>=2 in /usr/local/lib/python3.10/dist-packages (from langchain) (2.31.0)\n",
            "Requirement already satisfied: tenacity<9.0.0,>=8.1.0 in /usr/local/lib/python3.10/dist-packages (from langchain) (8.2.3)\n",
            "Requirement already satisfied: aiosignal>=1.1.2 in /usr/local/lib/python3.10/dist-packages (from aiohttp<4.0.0,>=3.8.3->langchain) (1.3.1)\n",
            "Requirement already satisfied: attrs>=17.3.0 in /usr/local/lib/python3.10/dist-packages (from aiohttp<4.0.0,>=3.8.3->langchain) (23.2.0)\n",
            "Requirement already satisfied: frozenlist>=1.1.1 in /usr/local/lib/python3.10/dist-packages (from aiohttp<4.0.0,>=3.8.3->langchain) (1.4.1)\n",
            "Requirement already satisfied: multidict<7.0,>=4.5 in /usr/local/lib/python3.10/dist-packages (from aiohttp<4.0.0,>=3.8.3->langchain) (6.0.5)\n",
            "Requirement already satisfied: yarl<2.0,>=1.0 in /usr/local/lib/python3.10/dist-packages (from aiohttp<4.0.0,>=3.8.3->langchain) (1.9.4)\n",
            "Collecting marshmallow<4.0.0,>=3.18.0 (from dataclasses-json<0.7,>=0.5.7->langchain)\n",
            "  Downloading marshmallow-3.21.1-py3-none-any.whl (49 kB)\n",
            "\u001b[2K     \u001b[90m━━━━━━━━━━━━━━━━━━━━━━━━━━━━━━━━━━━━━━━━\u001b[0m \u001b[32m49.4/49.4 kB\u001b[0m \u001b[31m3.3 MB/s\u001b[0m eta \u001b[36m0:00:00\u001b[0m\n",
            "\u001b[?25hCollecting typing-inspect<1,>=0.4.0 (from dataclasses-json<0.7,>=0.5.7->langchain)\n",
            "  Downloading typing_inspect-0.9.0-py3-none-any.whl (8.8 kB)\n",
            "Collecting jsonpointer>=1.9 (from jsonpatch<2.0,>=1.33->langchain)\n",
            "  Downloading jsonpointer-2.4-py2.py3-none-any.whl (7.8 kB)\n",
            "Collecting packaging<24.0,>=23.2 (from langchain-core<0.2.0,>=0.1.42->langchain)\n",
            "  Downloading packaging-23.2-py3-none-any.whl (53 kB)\n",
            "\u001b[2K     \u001b[90m━━━━━━━━━━━━━━━━━━━━━━━━━━━━━━━━━━━━━━━━\u001b[0m \u001b[32m53.0/53.0 kB\u001b[0m \u001b[31m3.3 MB/s\u001b[0m eta \u001b[36m0:00:00\u001b[0m\n",
            "\u001b[?25hCollecting orjson<4.0.0,>=3.9.14 (from langsmith<0.2.0,>=0.1.17->langchain)\n",
            "  Downloading orjson-3.10.0-cp310-cp310-manylinux_2_17_x86_64.manylinux2014_x86_64.whl (144 kB)\n",
            "\u001b[2K     \u001b[90m━━━━━━━━━━━━━━━━━━━━━━━━━━━━━━━━━━━━━━━━\u001b[0m \u001b[32m144.8/144.8 kB\u001b[0m \u001b[31m3.2 MB/s\u001b[0m eta \u001b[36m0:00:00\u001b[0m\n",
            "\u001b[?25hRequirement already satisfied: annotated-types>=0.4.0 in /usr/local/lib/python3.10/dist-packages (from pydantic<3,>=1->langchain) (0.6.0)\n",
            "Requirement already satisfied: pydantic-core==2.16.3 in /usr/local/lib/python3.10/dist-packages (from pydantic<3,>=1->langchain) (2.16.3)\n",
            "Requirement already satisfied: typing-extensions>=4.6.1 in /usr/local/lib/python3.10/dist-packages (from pydantic<3,>=1->langchain) (4.11.0)\n",
            "Requirement already satisfied: charset-normalizer<4,>=2 in /usr/local/lib/python3.10/dist-packages (from requests<3,>=2->langchain) (3.3.2)\n",
            "Requirement already satisfied: idna<4,>=2.5 in /usr/local/lib/python3.10/dist-packages (from requests<3,>=2->langchain) (3.6)\n",
            "Requirement already satisfied: urllib3<3,>=1.21.1 in /usr/local/lib/python3.10/dist-packages (from requests<3,>=2->langchain) (2.0.7)\n",
            "Requirement already satisfied: certifi>=2017.4.17 in /usr/local/lib/python3.10/dist-packages (from requests<3,>=2->langchain) (2024.2.2)\n",
            "Requirement already satisfied: greenlet!=0.4.17 in /usr/local/lib/python3.10/dist-packages (from SQLAlchemy<3,>=1.4->langchain) (3.0.3)\n",
            "Collecting mypy-extensions>=0.3.0 (from typing-inspect<1,>=0.4.0->dataclasses-json<0.7,>=0.5.7->langchain)\n",
            "  Downloading mypy_extensions-1.0.0-py3-none-any.whl (4.7 kB)\n",
            "Installing collected packages: packaging, orjson, mypy-extensions, jsonpointer, typing-inspect, marshmallow, jsonpatch, langsmith, dataclasses-json, langchain-core, langchain-text-splitters, langchain-community, langchain\n",
            "  Attempting uninstall: packaging\n",
            "    Found existing installation: packaging 24.0\n",
            "    Uninstalling packaging-24.0:\n",
            "      Successfully uninstalled packaging-24.0\n",
            "Successfully installed dataclasses-json-0.6.4 jsonpatch-1.33 jsonpointer-2.4 langchain-0.1.16 langchain-community-0.0.32 langchain-core-0.1.42 langchain-text-splitters-0.0.1 langsmith-0.1.45 marshmallow-3.21.1 mypy-extensions-1.0.0 orjson-3.10.0 packaging-23.2 typing-inspect-0.9.0\n"
          ]
        }
      ],
      "source": [
        "!pip install langchain"
      ]
    },
    {
      "cell_type": "markdown",
      "source": [
        "*Document Loaders In Langchain*"
      ],
      "metadata": {
        "id": "YAJgMn8_lQuH"
      }
    },
    {
      "cell_type": "code",
      "source": [
        "from langchain.document_loaders import TextLoader"
      ],
      "metadata": {
        "id": "K3SAzf9fDxQz"
      },
      "execution_count": 2,
      "outputs": []
    },
    {
      "cell_type": "code",
      "source": [
        "load = TextLoader('nvda_news_1.txt')\n",
        "data = load.load()"
      ],
      "metadata": {
        "id": "W1H7vYIrp7EX"
      },
      "execution_count": 6,
      "outputs": []
    },
    {
      "cell_type": "code",
      "source": [
        "data[0].metadata"
      ],
      "metadata": {
        "colab": {
          "base_uri": "https://localhost:8080/"
        },
        "id": "YOzzFXE9qbCc",
        "outputId": "13151703-a7e1-411e-b87c-e7d2c04c6437"
      },
      "execution_count": 7,
      "outputs": [
        {
          "output_type": "execute_result",
          "data": {
            "text/plain": [
              "{'source': 'nvda_news_1.txt'}"
            ]
          },
          "metadata": {},
          "execution_count": 7
        }
      ]
    },
    {
      "cell_type": "markdown",
      "source": [
        "*CSV loader*"
      ],
      "metadata": {
        "id": "Q1raN7vwe4k5"
      }
    },
    {
      "cell_type": "code",
      "source": [
        "from langchain.document_loaders.csv_loader import CSVLoader"
      ],
      "metadata": {
        "id": "yXTEDEcuFfwD"
      },
      "execution_count": 8,
      "outputs": []
    },
    {
      "cell_type": "markdown",
      "source": [
        "*Unstructured URL Loader Into Prcoess Environment*"
      ],
      "metadata": {
        "id": "G8e7xychfAE1"
      }
    },
    {
      "cell_type": "code",
      "source": [
        "!pip install unstructured"
      ],
      "metadata": {
        "colab": {
          "base_uri": "https://localhost:8080/"
        },
        "id": "QNwSqIbdkt3S",
        "outputId": "c10ecf85-2e99-424f-a771-c4221faa6f6c"
      },
      "execution_count": 9,
      "outputs": [
        {
          "output_type": "stream",
          "name": "stdout",
          "text": [
            "Collecting unstructured\n",
            "  Downloading unstructured-0.13.2-py3-none-any.whl (1.9 MB)\n",
            "\u001b[2K     \u001b[90m━━━━━━━━━━━━━━━━━━━━━━━━━━━━━━━━━━━━━━━━\u001b[0m \u001b[32m1.9/1.9 MB\u001b[0m \u001b[31m10.0 MB/s\u001b[0m eta \u001b[36m0:00:00\u001b[0m\n",
            "\u001b[?25hRequirement already satisfied: chardet in /usr/local/lib/python3.10/dist-packages (from unstructured) (5.2.0)\n",
            "Collecting filetype (from unstructured)\n",
            "  Downloading filetype-1.2.0-py2.py3-none-any.whl (19 kB)\n",
            "Collecting python-magic (from unstructured)\n",
            "  Downloading python_magic-0.4.27-py2.py3-none-any.whl (13 kB)\n",
            "Requirement already satisfied: lxml in /usr/local/lib/python3.10/dist-packages (from unstructured) (4.9.4)\n",
            "Requirement already satisfied: nltk in /usr/local/lib/python3.10/dist-packages (from unstructured) (3.8.1)\n",
            "Requirement already satisfied: tabulate in /usr/local/lib/python3.10/dist-packages (from unstructured) (0.9.0)\n",
            "Requirement already satisfied: requests in /usr/local/lib/python3.10/dist-packages (from unstructured) (2.31.0)\n",
            "Requirement already satisfied: beautifulsoup4 in /usr/local/lib/python3.10/dist-packages (from unstructured) (4.12.3)\n",
            "Collecting emoji (from unstructured)\n",
            "  Downloading emoji-2.11.0-py2.py3-none-any.whl (433 kB)\n",
            "\u001b[2K     \u001b[90m━━━━━━━━━━━━━━━━━━━━━━━━━━━━━━━━━━━━━━━━\u001b[0m \u001b[32m433.8/433.8 kB\u001b[0m \u001b[31m13.5 MB/s\u001b[0m eta \u001b[36m0:00:00\u001b[0m\n",
            "\u001b[?25hRequirement already satisfied: dataclasses-json in /usr/local/lib/python3.10/dist-packages (from unstructured) (0.6.4)\n",
            "Collecting python-iso639 (from unstructured)\n",
            "  Downloading python_iso639-2024.2.7-py3-none-any.whl (274 kB)\n",
            "\u001b[2K     \u001b[90m━━━━━━━━━━━━━━━━━━━━━━━━━━━━━━━━━━━━━━━━\u001b[0m \u001b[32m274.7/274.7 kB\u001b[0m \u001b[31m12.9 MB/s\u001b[0m eta \u001b[36m0:00:00\u001b[0m\n",
            "\u001b[?25hCollecting langdetect (from unstructured)\n",
            "  Downloading langdetect-1.0.9.tar.gz (981 kB)\n",
            "\u001b[2K     \u001b[90m━━━━━━━━━━━━━━━━━━━━━━━━━━━━━━━━━━━━━━━━\u001b[0m \u001b[32m981.5/981.5 kB\u001b[0m \u001b[31m18.2 MB/s\u001b[0m eta \u001b[36m0:00:00\u001b[0m\n",
            "\u001b[?25h  Preparing metadata (setup.py) ... \u001b[?25l\u001b[?25hdone\n",
            "Requirement already satisfied: numpy in /usr/local/lib/python3.10/dist-packages (from unstructured) (1.25.2)\n",
            "Collecting rapidfuzz (from unstructured)\n",
            "  Downloading rapidfuzz-3.8.1-cp310-cp310-manylinux_2_17_x86_64.manylinux2014_x86_64.whl (3.4 MB)\n",
            "\u001b[2K     \u001b[90m━━━━━━━━━━━━━━━━━━━━━━━━━━━━━━━━━━━━━━━━\u001b[0m \u001b[32m3.4/3.4 MB\u001b[0m \u001b[31m24.1 MB/s\u001b[0m eta \u001b[36m0:00:00\u001b[0m\n",
            "\u001b[?25hCollecting backoff (from unstructured)\n",
            "  Downloading backoff-2.2.1-py3-none-any.whl (15 kB)\n",
            "Requirement already satisfied: typing-extensions in /usr/local/lib/python3.10/dist-packages (from unstructured) (4.11.0)\n",
            "Collecting unstructured-client<=0.18.0 (from unstructured)\n",
            "  Downloading unstructured_client-0.18.0-py3-none-any.whl (21 kB)\n",
            "Requirement already satisfied: wrapt in /usr/local/lib/python3.10/dist-packages (from unstructured) (1.14.1)\n",
            "Requirement already satisfied: certifi>=2023.7.22 in /usr/local/lib/python3.10/dist-packages (from unstructured-client<=0.18.0->unstructured) (2024.2.2)\n",
            "Requirement already satisfied: charset-normalizer>=3.2.0 in /usr/local/lib/python3.10/dist-packages (from unstructured-client<=0.18.0->unstructured) (3.3.2)\n",
            "Collecting dataclasses-json-speakeasy>=0.5.11 (from unstructured-client<=0.18.0->unstructured)\n",
            "  Downloading dataclasses_json_speakeasy-0.5.11-py3-none-any.whl (28 kB)\n",
            "Requirement already satisfied: idna>=3.4 in /usr/local/lib/python3.10/dist-packages (from unstructured-client<=0.18.0->unstructured) (3.6)\n",
            "Collecting jsonpath-python>=1.0.6 (from unstructured-client<=0.18.0->unstructured)\n",
            "  Downloading jsonpath_python-1.0.6-py3-none-any.whl (7.6 kB)\n",
            "Requirement already satisfied: marshmallow>=3.19.0 in /usr/local/lib/python3.10/dist-packages (from unstructured-client<=0.18.0->unstructured) (3.21.1)\n",
            "Requirement already satisfied: mypy-extensions>=1.0.0 in /usr/local/lib/python3.10/dist-packages (from unstructured-client<=0.18.0->unstructured) (1.0.0)\n",
            "Requirement already satisfied: packaging>=23.1 in /usr/local/lib/python3.10/dist-packages (from unstructured-client<=0.18.0->unstructured) (23.2)\n",
            "Requirement already satisfied: python-dateutil>=2.8.2 in /usr/local/lib/python3.10/dist-packages (from unstructured-client<=0.18.0->unstructured) (2.8.2)\n",
            "Requirement already satisfied: six>=1.16.0 in /usr/local/lib/python3.10/dist-packages (from unstructured-client<=0.18.0->unstructured) (1.16.0)\n",
            "Requirement already satisfied: typing-inspect>=0.9.0 in /usr/local/lib/python3.10/dist-packages (from unstructured-client<=0.18.0->unstructured) (0.9.0)\n",
            "Requirement already satisfied: urllib3>=1.26.18 in /usr/local/lib/python3.10/dist-packages (from unstructured-client<=0.18.0->unstructured) (2.0.7)\n",
            "Requirement already satisfied: soupsieve>1.2 in /usr/local/lib/python3.10/dist-packages (from beautifulsoup4->unstructured) (2.5)\n",
            "Requirement already satisfied: click in /usr/local/lib/python3.10/dist-packages (from nltk->unstructured) (8.1.7)\n",
            "Requirement already satisfied: joblib in /usr/local/lib/python3.10/dist-packages (from nltk->unstructured) (1.4.0)\n",
            "Requirement already satisfied: regex>=2021.8.3 in /usr/local/lib/python3.10/dist-packages (from nltk->unstructured) (2023.12.25)\n",
            "Requirement already satisfied: tqdm in /usr/local/lib/python3.10/dist-packages (from nltk->unstructured) (4.66.2)\n",
            "Building wheels for collected packages: langdetect\n",
            "  Building wheel for langdetect (setup.py) ... \u001b[?25l\u001b[?25hdone\n",
            "  Created wheel for langdetect: filename=langdetect-1.0.9-py3-none-any.whl size=993227 sha256=4217e8f94c53086ee02ad7c67bb91ed3911f93da3d25475ec58c0d4b85cba18a\n",
            "  Stored in directory: /root/.cache/pip/wheels/95/03/7d/59ea870c70ce4e5a370638b5462a7711ab78fba2f655d05106\n",
            "Successfully built langdetect\n",
            "Installing collected packages: filetype, rapidfuzz, python-magic, python-iso639, langdetect, jsonpath-python, emoji, backoff, dataclasses-json-speakeasy, unstructured-client, unstructured\n",
            "Successfully installed backoff-2.2.1 dataclasses-json-speakeasy-0.5.11 emoji-2.11.0 filetype-1.2.0 jsonpath-python-1.0.6 langdetect-1.0.9 python-iso639-2024.2.7 python-magic-0.4.27 rapidfuzz-3.8.1 unstructured-0.13.2 unstructured-client-0.18.0\n"
          ]
        }
      ]
    },
    {
      "cell_type": "code",
      "source": [
        "!pip3 install unstructured libmagic python-magic python-magic-bin"
      ],
      "metadata": {
        "colab": {
          "base_uri": "https://localhost:8080/"
        },
        "id": "vKqVnQxhjpA0",
        "outputId": "5e174069-5a8d-4795-dca3-33b32c056e1e"
      },
      "execution_count": 10,
      "outputs": [
        {
          "output_type": "stream",
          "name": "stdout",
          "text": [
            "Requirement already satisfied: unstructured in /usr/local/lib/python3.10/dist-packages (0.13.2)\n",
            "Collecting libmagic\n",
            "  Downloading libmagic-1.0.tar.gz (3.7 kB)\n",
            "  Preparing metadata (setup.py) ... \u001b[?25l\u001b[?25hdone\n",
            "Requirement already satisfied: python-magic in /usr/local/lib/python3.10/dist-packages (0.4.27)\n",
            "\u001b[31mERROR: Could not find a version that satisfies the requirement python-magic-bin (from versions: none)\u001b[0m\u001b[31m\n",
            "\u001b[0m\u001b[31mERROR: No matching distribution found for python-magic-bin\u001b[0m\u001b[31m\n",
            "\u001b[0m"
          ]
        }
      ]
    },
    {
      "cell_type": "code",
      "source": [
        "from langchain.document_loaders import UnstructuredURLLoader"
      ],
      "metadata": {
        "id": "CO3x4a4njptz"
      },
      "execution_count": 15,
      "outputs": []
    },
    {
      "cell_type": "code",
      "source": [
        "load = UnstructuredURLLoader(\n",
        "    urls = [\n",
        "        \"https://economictimes.indiatimes.com/tata-motors-ltd/stocks/companyid-12934.cms\",\n",
        "        \"https://www.financialexpress.com/market/tata-motors-ltd-share-price/\"\n",
        "    ]\n",
        ")"
      ],
      "metadata": {
        "id": "APy7Qr90j3Ty"
      },
      "execution_count": 12,
      "outputs": []
    },
    {
      "cell_type": "code",
      "source": [
        "data = load.load()\n",
        "len(data)"
      ],
      "metadata": {
        "colab": {
          "base_uri": "https://localhost:8080/"
        },
        "id": "cyqBuzlXkkX1",
        "outputId": "45734564-459f-427d-c49a-c92d3a7b9b22"
      },
      "execution_count": 13,
      "outputs": [
        {
          "output_type": "stream",
          "name": "stderr",
          "text": [
            "[nltk_data] Downloading package punkt to /root/nltk_data...\n",
            "[nltk_data]   Unzipping tokenizers/punkt.zip.\n",
            "[nltk_data] Downloading package averaged_perceptron_tagger to\n",
            "[nltk_data]     /root/nltk_data...\n",
            "[nltk_data]   Unzipping taggers/averaged_perceptron_tagger.zip.\n"
          ]
        },
        {
          "output_type": "execute_result",
          "data": {
            "text/plain": [
              "2"
            ]
          },
          "metadata": {},
          "execution_count": 13
        }
      ]
    },
    {
      "cell_type": "code",
      "source": [
        "data[0]"
      ],
      "metadata": {
        "colab": {
          "base_uri": "https://localhost:8080/"
        },
        "id": "jlqAQd_Wk_DJ",
        "outputId": "2a07a695-8554-407c-a5bf-f63c8c5af070"
      },
      "execution_count": 14,
      "outputs": [
        {
          "output_type": "execute_result",
          "data": {
            "text/plain": [
              "Document(page_content=\"English Edition\\n\\nEnglish Editionहिन्दीગુજરાતીमराठीবাংলাಕನ್ನಡമലയാളംதமிழ்తెలుగు\\n\\nToday's ePaper\\n\\nSubscribe\\n\\nSign In\\n\\nMaster your investments. Save 20%.\\n\\nSearch\\n\\nHome\\n\\nETPrime\\n\\nMarkets\\n\\nNews\\n\\nIndustry\\n\\nRise\\n\\nPolitics\\n\\nWealth\\n\\nMutual Funds\\n\\nTech\\n\\nCareers\\n\\nOpinion\\n\\nNRI\\n\\nPanache\\n\\nET TV\\n\\nMore Menu\\n\\nStocks\\n\\nStock Liveblog\\n\\nNews\\n\\nLive Blog\\n\\nEarnings\\n\\nPodcast\\n\\nMarket Classroom\\n\\nDons of Dalal Street\\n\\nRecos\\n\\nStock Reports PlusNew\\n\\nMy Screener\\n\\nCandlestick Screener\\n\\nStock Screener\\n\\nStock Watch\\n\\nMarket Calendar\\n\\nStock Price Quotes\\n\\nOptions\\n\\nIPOs/FPOs\\n\\nExpert Views\\n\\nMarkets Data\\n\\nInvestment Ideas\\n\\nCommodities\\n\\nViews\\n\\nNews\\n\\nOthers\\n\\nMentha Oil\\n\\nPrecious Metals\\n\\nGold M\\n\\nGold\\n\\nSilver\\n\\nGold Petal\\n\\nSilver Micro\\n\\nSilver M\\n\\nGold Guinea\\n\\nOil & Energy\\n\\nNatural Gas\\n\\nCrude Oil\\n\\nCrude Oil Mini\\n\\nBase Metals\\n\\nAluminium\\n\\nZinc Mini\\n\\nLead Mini\\n\\nCopper\\n\\nZinc\\n\\nNickel\\n\\nAluminium Mini\\n\\nLead\\n\\nPlantation\\n\\nKapas\\n\\nCotton Candy\\n\\nForex\\n\\nForex News\\n\\nCurrency Converter\\n\\nCryptocurrency\\n\\nCrypto News\\n\\nCrypto TV\\n\\nCrypto Returns Calculator\\n\\nCrypto Prices\\n\\nLive Stream!\\n\\nBasics of crypto and blockchain\\n\\nMore\\n\\nTechnicals\\n\\nTechnical Chart\\n\\nVisualize\\n\\nScreener\\n\\nMind Over Money\\n\\nWeb Stories\\n\\nMarket Moguls\\n\\nBonds\\n\\nStock Game\\n\\nChartMantra Technicals Trading Game\\n\\nWebinars\\n\\nSitemap\\n\\nDefinitions\\n\\nBusiness News›\\n\\nMarkets›\\n\\nStocks›\\n\\nStock Price Quotes›\\n\\nTata Motors Share Price\\n\\nSector: Auto\\n\\nIndustry: Auto - Cars/UV/CV\\n\\nTata Motors Share Price\\n\\n1,018.505.00 (0.50%)\\n                    Volume: 1,15,75,194\\n\\n1,019.956.80 (0.67%)\\n                    Volume: 4,39,390\\n\\nNSEBSE\\n\\nClosed\\n\\nLast Updated On:  12 Apr, 2024, 04:05 PM IST\\n\\nClosed\\n\\nLast Updated On:  12 Apr, 2024, 03:40 PM IST\\n\\nSTOCK SCOREETPrime Only\\n\\n\\n\\n\\n\\n\\n\\n1D\\n\\n1W\\n\\n1M\\n\\n3M\\n\\n6M\\n\\n1Y\\n\\n5Y\\n\\nTECHNICALS\\n\\nCOMPARE\\n\\nLoading...\\n\\nTata Motors Share Price\\n\\n1,018.505.00 (0.50%)\\n                    Volume: 1,15,75,194\\n\\n1,019.956.80 (0.67%)\\n                    Volume: 4,39,390\\n\\nAdvertisment\\n\\nOverview\\n\\nNews\\n\\nAnalysis\\n\\nRecos\\n\\nFinancials\\n\\nForecast\\n\\nTechnicals\\n\\nPeers\\n\\nShareholdings\\n\\nMF\\n\\nF&O\\n\\nCorp Actions\\n\\nAbout\\n\\nMore MFF&OCorp ActionsAbout\\n\\nEnglishEnglishहिन्दीગુજરાતીमराठीবাংলাಕನ್ನಡதமிழ்తెలుగుRank 8 - ET 5002022 ranking\\n\\nTata Motors share price insights\\n\\nView All\\n\\nEmployee & Interest ExpenseCompany has spent 2.96% of its operating revenues towards interest expenses and 9.73% towards employee cost in the year ending 31 Mar, 2023. (Source: Consolidated Financials)\\n\\nStock Returns vs Nifty 100Stock gave a 3 year return of 253.69% as compared to Nifty 100 which gave a return of 62.45%. (as of last trading session)\\n\\nStock Returns vs Nifty AutoStock generated 253.69% return as compared to Nifty Auto which gave investors 133.5% return over 3 year time period. (as of last trading session)\\n\\nTata Motors Share Price UpdateTata Motors Ltd. share price moved up by 0.50% from its previous close of Rs 1,013.50. Tata Motors Ltd. stock last traded price is 1,018.50Share PriceValueToday/Current/Last1,018.501,019.95Previous Day1,013.501,013.15\\n\\nInsightsTata Motors\\n\\nDo you find these insights useful?\\n\\nhate it\\n\\nmeh\\n\\nlove it\\n\\nKey Metrics\\n\\nPE Ratio (x) 17.36 EPS - TTM (₹) 58.38 MCap (₹ Cr.) 3,36,770 Sectoral MCap Rank 2 PB Ratio (x) 6.40 Div Yield (%) 0.20 Face Value (₹) 2.00 Beta Beta 1 Month 2.09 3 Months 2.25 6 Months 2.13 1 Year 1.81 3 Years 1.65 2.09 VWAP (₹) 1,022.78 52W H/L (₹) 1,065.60 / 455.80 BV/Share (₹) 158.30 MCap/Sales 0.47 52W H/L BV/Share MCap/Sales\\n\\nPE Ratio (x) 17.39 EPS - TTM (₹) 58.38 MCap (₹ Cr.) 3,37,435 Sectoral MCap Rank 2 PB Ratio (x) 6.40 Div Yield (%) 0.20 Face Value (₹) 2.00 Beta Beta 1 Month 2.05 3 Months 2.26 6 Months 2.14 1 Year 1.84 3 Years 1.66 2.05 VWAP (₹) 1,022.44 52W H/L (₹) 1,065.60 / 455.80 BV/Share (₹) 158.30 MCap/Sales 0.47 52W H/L BV/Share MCap/Sales\\n\\nKey Metrics\\n\\nPE Ratio(x)17.36\\n\\nEPS - TTM(₹)58.38\\n\\nDividend Yield(%)0.20\\n\\nVWAP(₹)1,022.78\\n\\nPB Ratio(x)6.40\\n\\nMCap(₹ Cr.)3,36,770\\n\\nFace Value(₹)2.00\\n\\nBV/Share(₹)158.30\\n\\nSectoral MCap Rank2\\n\\n52W H/L(₹)1,065.60 / 455.80\\n\\nBetaBeta1 Month2.093 Months2.256 Months2.131 Year1.813 Years1.652.09\\n\\nMCap/Sales0.47\\n\\nPE Ratio(x)17.39\\n\\nEPS - TTM(₹)58.38\\n\\nDividend Yield(%)0.20\\n\\nVWAP(₹)1,022.44\\n\\nPB Ratio(x)6.40\\n\\nMCap(₹ Cr.)3,37,435\\n\\nFace Value(₹)2.00\\n\\nBV/Share(₹)158.30\\n\\nSectoral MCap Rank2\\n\\n52W H/L(₹)1,065.60 / 455.80\\n\\nBetaBeta1 Month2.053 Months2.266 Months2.141 Year1.843 Years1.662.05\\n\\nMCap/Sales0.47\\n\\nTata Motors Share Price Returns\\n\\n1 Day 0.5% 1 Week 1.13% 1 Month 0.2% 3 Months 24.75% 1 Year 118.8% 3 Years 255.44% 5 Years 371.64%\\n\\n1 Day 0.67% 1 Week 1.28% 1 Month 0.33% 3 Months 24.96% 1 Year 119.23% 3 Years 255.88% 5 Years 372.53%\\n\\nET Stock ScreenersTop Score Companies\\n\\nCheck whether Tata Motors belongs to analysts' top-rated companies list?\\n\\nView Stock Screeners\\n\\nTata Motors News & Analysis\\n\\nSensex declines 650 points on fading US rate cut hopes; Nifty below 22,600News\\n\\nRekha Jhunjhunwala trims stake in multibagger Canara Bank & a smallcap in March quarterNews\\n\\nQ4 earnings preview: Auto sector revenue to grow 15% YoY on steady PV, 2W demandNews\\n\\nCompliances-Reg. 39 (3) - Details of Loss of Certificate / Duplicate CertificateAnnouncements\\n\\nView all Tata Motors Share News & Announcements\\n\\nTata Motors Share Analysis\\n\\nUnlock Stock Score, Analyst' Ratings & Recommendations\\n\\nView Stock Score on a 10-point scale\\n\\nSee ratings on Earning, Fundamentals, Valuation, Risk & Price\\n\\nCheck stock performance\\n\\nJOIN ET PRIME\\n\\nTata Motors Share Recommendations\\n\\nRecent Recos\\n\\nBUY\\n\\nCurrent\\n\\nMean Recos by 29 Analysts\\n\\nStrong\\n\\nStrong\\n\\nSell\\n\\nSell\\n\\nHold\\n\\nBuy\\n\\nStrong\\n\\nStrong\\n\\nBuy\\n\\nTarget₹1080\\n\\nOrganizationPrabhudas Lilladher\\n\\nACCUMULATE\\n\\nAnalyst Trends\\n\\nRatings Current 1 Week Ago 1 Month Ago 3 Months Ago Strong Buy 6 7 7 13 Buy 14 13 13 12 Hold 5 5 5 3 Sell 3 3 3 2 Strong Sell 1 1 1 1 # Analysts 29 29 29 31\\n\\nView all \\n                    \\t                 Stock Recommendations\\n\\nTata Motors Share Price Forecast\\n\\nPRICE\\n\\nREVENUE\\n\\nEARNINGS\\n\\nGet multiple analysts’ prediction on Tata MotorsHigh, low, medium predictions for PriceUpcoming predictions for RevenueDetails about company earningsSTART FREE TRIAL\\n\\nGet multiple analysts’ prediction on Tata MotorsHigh, low, medium predictions for PriceUpcoming predictions for RevenueDetails about company earningsSTART FREE TRIAL\\n\\nGet multiple analysts’ prediction on Tata MotorsHigh, low, medium predictions for PriceUpcoming predictions for RevenueDetails about company earningsSTART FREE TRIAL\\n\\nPeer Comparison\\n\\nTata Motors Stock Performance\\n\\nRatio Performance\\n\\nCHART TABLEInsightsStock Returns vs Nifty 100Stock gave a 3 year return of 253.69% as compared to Nifty 100 which gave a return of 62.45%. (as of last trading session)Stock Returns vs Nifty AutoStock generated 253.69% return as compared to Nifty Auto which gave investors 133.5% return over 3 year time period. (as of last trading session)Choose from PeersChoose from Stocks\\n                                1D1W1M3M6M1Y5YLoading...NAME1D1W1M3M1Y3Y5YTata Motors Stock Performance\\n                0.501.130.2024.75118.80255.44371.64Maruti Suzuki Stock Performance\\n                -3.29-1.256.5723.0942.2988.1267.05M&M Stock Performance\\n                -0.262.869.2827.4971.53175.58205.36Ashok Leyland Stock Performance\\n                -0.091.346.600.9629.7159.0386.46Force Motors Stock Performance\\n                -1.376.6035.170.00572.45678.390.00Add MoreAll values in %Choose from PeersChoose from Stocks\\n\\nInsightsStock Returns vs Nifty 100Stock gave a 3 year return of 253.69% as compared to Nifty 100 which gave a return of 62.45%. (as of last trading session)Stock Returns vs Nifty AutoStock generated 253.69% return as compared to Nifty Auto which gave investors 133.5% return over 3 year time period. (as of last trading session)Ratio PerformanceNAMEP/E (x)P/B (x)ROE %ROCE %ROA %Rev CAGR [3Yr]OPMNPMBasic EPSCurrent RatioTotal Debt/ Equity (x)Total Debt/ CFO (x)Tata Motors17.366.405.326.450.719.813.370.686.290.982.773.55Maruti Suzuki32.776.4513.2816.029.7014.708.786.83271.820.580.020.13M&M23.153.8518.2412.664.9916.8514.128.1392.411.291.57-12.55Ashok Leyland22.004.8514.5013.332.2623.4710.323.244.231.083.61-6.87Force Motors29.626.227.126.033.3217.503.003.02101.431.040.511.80Add MoreAnnual Ratios (%)Choose from PeersChoose from Stocks\\n        \\t        See All Parameters\\n\\nPeers InsightsTata Motors\\n\\nStock Returns vs Nifty 100Stock gave a 3 year return of 253.69% as compared to Nifty 100 which gave a return of 62.45%. (as of last trading session)\\n\\nStock Returns vs Nifty AutoStock generated 253.69% return as compared to Nifty Auto which gave investors 133.5% return over 3 year time period. (as of last trading session)\\n\\nDo you find these insights useful?\\n\\nhate it\\n\\nmeh\\n\\nlove it\\n\\nTata Motors Shareholding Pattern\\n\\nQOQ Change\\n\\nTotal Shareholdings\\n\\nLoading...Showing Tata Motors Shareholding as on 31 Dec 2023Category31 Dec 202330 Sep 202330 Jun 202331 Mar 2023Promoters46.3746.3846.3946.39Pledge0.001.821.821.82FII18.6218.4017.7215.34DII17.1817.2817.3417.56Mutual Funds10.379.828.698.98Others17.8317.9418.5520.71\\n\\nShowing Shareholding as on 31 Dec 2023CategoryNo. of SharesPercentage% Change QoQPromoters1,54,08,85,00946.37 %-0.01Pledge00.00 %-1.82FII61,88,10,11418.62 %0.22DII57,10,11,46217.18 %-0.10MF34,47,30,09410.37 %0.55Others59,21,40,53017.83 %-0.11\\n\\nMF Ownership\\n\\nAxis Bluechip Direct-GEquity: Large Cap2994.99Amount Invested (in Cr.)3.05%% of AUM-10.68% Change (MoM basis)\\n\\nHDFC Top 100 Direct-GEquity: Large Cap4920.41Amount Invested (in Cr.)2.91%% of AUM0.00% Change (MoM basis)\\n\\nAxis ELSS Tax Saver Direct-GEquity: ELSS1894.71Amount Invested (in Cr.)2.63%% of AUM-10.81% Change (MoM basis)\\n\\nMF Ownership as on 29 February 2024\\n\\nView all Mutual Fund Schemes\\n\\nTop Searches:\\n\\nTata Motors News\\n\\nTata Motors Quarterly Results\\n\\nTata Motors Dividend\\n\\nTata Motors Q1 Results\\n\\nTata Motors Q2 Results\\n\\nTata Motors Q3 Results\\n\\nTata Motors Q4 Results\\n\\nTata Motors F&O Quote\\n\\nFutures\\n\\nOptions\\n\\nExpiry25-04-2024 (Current Month)30-05-2024 (Near Month)27-06-2024 (Far Month)Price1,017.505.95 \\n            (0.59%)\\n            Open Interest6,07,49,1752,25,150 \\n                (0.37%)\\n            OpenHighLowPrev CloseContracts TradedTurnover (₹ Lakhs)1,016.851,023.301,012.101,011.558,4081,21,866.02Open Interest as of 05 Apr 2024\\n\\n\\n\\nCorporate Actions\\n\\nTata Motors Board Meeting/AGM\\n\\nTata Motors Dividends\\n\\nOthers\\n\\nMeeting DateAnnounced onPurposeDetailsFeb 02, 2024Jan 15, 2024Board MeetingQuarterly ResultsDec 14, 2023Nov 13, 2023POM-Nov 02, 2023Oct 19, 2023Board MeetingQuarterly ResultsAug 08, 2023Jun 13, 2023AGMRs.2.0000 per share(100%)Final DividendJul 25, 2023Jul 07, 2023Board MeetingQuarterly Results\\n\\nTypeDividendDividend per ShareEx-Dividend DateAnnounced onFinal100%2.0Jul 28, 2023May 12, 2023Final10%0.2Jul 18, 2016May 30, 2016Final100%2.0Jul 09, 2014May 29, 2014Final100%2.0Jul 30, 2013May 29, 2013Final200%4.0Jul 18, 2012May 29, 2012\\n\\nAll TypesEx-DateRecord DateAnnounced onDetailsRightsApr 06, 2015-Jan 27, 2015Rights ratio: 6 share for every 109 held at a price of Rs 450.0RightsApr 06, 2015-Jan 27, 2015Rights ratio: 6 share for every 109 held at a price of Rs 271.0SplitsSep 12, 2011Sep 13, 2011May 26, 2011Split: Old FV10.0| New FV:2.0RightsSep 09, 2008Sep 16, 2008May 29, 2008Rights ratio: 1 share for every 6 held at a price of Rs 305.0RightsSep 09, 2008Sep 16, 2008May 28, 2008Rights ratio: 1 share for every 6 held at a price of Rs 340.0\\n\\nAbout Tata Motors\\n\\nTata Motors Ltd., incorporated in the year 1945, is a Large Cap company (having a market cap of Rs 336,770.56 Crore) operating in Auto sector. Tata Motors Ltd. key Products/Revenue Segments include Motor Vehicles, Spare Parts & Others, Miscellaneous Goods, Sale of services and Other Operating Revenue for the year ending 31-Mar-2023.For the quarter ended 31-12-2023, the company has reported a Consolidated Total Income of Rs 112,075.94 Crore, up 4.98 % from last quarter Total Income of Rs 106,758.98 Crore and up 25.06 % from last year same quarter Total Income of Rs 89,618.97 Crore. Company has reported net profit after tax of Rs 6,952.17 Crore in latest quarter.The company’s top management includes Mr.Ratan N Tata, Mr.N Chandrasekaran, Mr.Girish Wagh, Mr.Mitsuhiko Yamashita, Mr.Al-Noor Ramji, Ms.Hanne Sorensen, Mr.Kosaraju V Chowdary, Mr.Om Prakash Bhatt, Mrs.Usha Sangwan, Ms.Vedika Bhandarkar, Mr.Pathamadai Balachandran Balaji, Mr.Maloy Kumar Gupta. Company has BSR & Co. LLP as its auditors. As on 31-12-2023, the company has a total of 332.28 Crore shares outstanding. \\n                                Show More\\n\\nExecutives\\n\\nAuditors\\n\\nRNRatan N TataChairman EmeritusNCN ChandrasekaranChairman & Non-Exe.DirectorGWGirish WaghExecutive DirectorMYMitsuhiko YamashitaNon Exe.Non Ind.DirectorARAl-Noor RamjiInd. Non-Executive DirectorHSHanne SorensenInd. Non-Executive DirectorKVKosaraju V ChowdaryInd. Non-Executive DirectorOPOm Prakash BhattInd. Non-Executive DirectorUSUsha SangwanInd. Non-Executive DirectorVBVedika BhandarkarInd. Non-Executive DirectorPBPathamadai Balachandran BalajiGroup Chief Financial OfficerMKMaloy Kumar GuptaCo. Secretary & Compl. Officer\\n                                                        Show More\\n\\nBSR & Co. LLP\\n\\nIndustry\\n\\nAuto - Cars/UV/CV\\n\\nKey Indices Listed on\\n\\nNifty 50, S&P BSE Sensex, Nifty 100, + 38 more\\n\\nAddress\\n\\nBombay House,24, Homi Mody Street,Mumbai, Maharashtra - 400001\\n\\nContact\\n\\ninv_rel@tatamotors.com\\n\\nhttp://www.tatamotors.com\\n\\nMore Details\\n\\nChairman's Speech\\n\\nCompany History\\n\\nDirectors Report\\n\\nBackground information\\n\\nCompany Management\\n\\nListing Information\\n\\nFinished Products\\n\\nBrands\\n\\nTata Motors\\n\\nLand Rover\\n\\nJaguar\\n\\nTata Altroz\\n\\nTata Nexon\\n\\nTata Harrier\\n\\nTata Safari\\n\\nTata Tiago\\n\\nTata Tigor\\n\\nShow More\\n\\nFAQs about Tata Motors share\\n\\n1. What is Tata Motors share price and what are the returns for Tata Motors share?Tata Motors share price was Rs 1,018.50 as on  12 Apr, 2024, 04:05 PM IST.  Tata Motors share price was up by 0.50% based on previous share price of Rs 1,008.5. Tata Motors share price trend:\\n\\n  Last 1 Month: Tata Motors share price moved up by 0.20%  Last 3 Months: Tata Motors share price moved up by 24.75%  Last 12 Months: Tata Motors share price moved up 118.80%  Last 3 Years: Tata Motors Share price moved up by 255.44%\\n\\n2. What is 52 week high/low of Tata Motors share price?Tata Motors share price saw a 52 week high of Rs 1,065.60 and 52 week low of Rs 455.80.\\n\\n3. What are the key metrics to analyse Tata Motors Share Price?Key Metrics for Tata Motors are: \\r\\n\\r\\n  PE Ratio of Tata Motors is 17.45  Earning per share of Tata Motors is 58.38  Price/Sales ratio of Tata Motors is 0.47  Price to Book ratio of Tata Motors is 6.40\\n\\n4. Should I buy, sell or hold Tata Motors?As per Refinitiv (erstwhile Thomson Reuters), overall mean recommendation by 29 analysts for Tata Motors stock is to Buy. Recommendation breakup is as follows\\n\\n\\n  6 analysts are recommending Strong Buy  14 analysts are recommending to Buy  5 analysts are recommending to Hold  3 analysts are recommending to Sell   1 analyst is  recommending Strong Sell\\n\\n5. Who are the peers for Tata Motors in Auto sector?Top 4 Peers for Tata Motors are Maruti Suzuki India Ltd., Mahindra & Mahindra Ltd., Ashok Leyland Ltd. and Force Motors Ltd.\\n\\n6. Who's the owner of Tata Motors?Promoter,DII and FII owns 46.38, 17.28 and 18.4 shares of Tata Motors as on 31 Dec 2023\\r\\n\\r\\nPromoter holding have gone down from 46.38 (30 Sep 2023) to 46.37 (31 Dec 2023) \\r\\nDomestic Institutional Investors holding have gone down from 17.28 (30 Sep 2023) to 17.18 (31 Dec 2023) \\r\\nForeign Institutional Investors holding has gone up from 18.4 (30 Sep 2023) to 18.62 (31 Dec 2023)\\r\\n \\r\\nOther investor holding have gone down from 17.94 (30 Sep 2023) to 17.83 (31 Dec 2023)\\n\\n7. What is the market cap of Tata Motors?Market Capitalization of Tata Motors stock is Rs 3,36,771 Cr.\\n\\nTrending in Markets\\n\\nTCS Q4 Results\\n\\nSensex Today\\n\\nRBI Monetary Policy Live Updates\\n\\nNvidia\\n\\nF&O Ban List\\n\\nKrystal Integrated Services IPO Allotment\\n\\nF&O stocks to buy today\\n\\nPopular Vehicles and Services Share Price\\n\\nSignoria Creation Share Price\\n\\nRoyal Sense Stock Listing Price\\n\\nTata Motors  Quick Links\\n\\nTata Motors Quarterly Results\\n\\nTata Motors Dividend\\n\\nTata Motors Bonus\\n\\nTata Motors News\\n\\nTata Motors AGM\\n\\nTata Motors Shareholdings\\n\\nTata Motors Profit Loss\\n\\nTata Motors Balancesheet\\n\\nEquity Quick Links\\n\\nTop Gainers\\n\\nTop Losers\\n\\nStock Recommendations\\n\\nStock Screener\\n\\nCandlestick Screener\\n\\nUpcoming Dividends\\n\\nVolume Shockers\\n\\nHourly losers\\n\\nHourly gainers\\n\\nPenny Stocks\\n\\nMidcap stocks\\n\\nSmallcap stocks\\n\\nLargecap stocks\\n\\nSensex\\n\\nNifty\\n\\nNSE\\n\\nBSE\\n\\nMCX Live\\n\\nMore from Markets\\n\\nIPO\\n\\nStock market news\\n\\nBudget 2022 Live Updates\\n\\nCryptocurrency\\n\\nCurrency converter\\n\\nNSE holiday list\\n\\nDATA SOURCES: TickerPlant (for live BSE/NSE quotes service) and Dion Global Solutions Ltd. (for corporate data, historical price & volume, F&O data). Sensex & BSE Quotes and Nifty & NSE Quotes are real-time and licensed from BSE and NSE respectively. All timestamps are reflected in IST (Indian Standard Time).\\n\\nDISCLAIMER: Any and all content on this website including tools/analysis is provided to you only for convenience and on an “as-is, as- available” basis without representation and warranties of any kind. The content and any output of such tools/analysis is for informational purposes only and should not be relied upon or construed as an investment advice or guarantee for any specific performance/returns advice or considered as recommendation for the purchase or sale of any security or investment. You are advised to exercise caution, discretion and independent judgment with regards to the same and seek advice from professionals and certified experts before taking any decisions.\\n\\nBy using this site, you agree to the Terms of Service and Privacy Policy.\\n\\nHot on Web\\n\\nMORE\\n\\nLok Sabha Election 2024 Live\\n\\nSensex Today\\n\\nManabadi AP Inter Results 2024 Live Updates\\n\\nTCS Q4 Results\\n\\nAP Inter Results\\n\\nAP Inter Toppers List 2024\\n\\nPatanjali Case\\n\\nMonsoon in India\\n\\nIPL 2024 Purple Cap\\n\\nSolar Eclipse\\n\\nCongress Manifesto\\n\\nCUET PG Answer Key 2024\\n\\nForbes Richest List 2024\\n\\nIPL 2024 Full Schedule\\n\\nBJP Election Manifesto Committee\\n\\nIPL in USA\\n\\nGyanvapi Mosque Case\\n\\nMORE\\n\\nTop Searched Companies\\n\\nVodafone Idea Share Price\\n\\nInfosys Share Price\\n\\nLife Insurance Corporation Of India Share Price\\n\\nTCS Share Price\\n\\nHCL Tech Share Price\\n\\nWipro Share Price\\n\\nCoal India Ltd Share Price\\n\\nIndian Oil Corp. Share Price\\n\\nICICI Bank Share Price\\n\\nL&T Share Price\\n\\nCopyright © 2024 Bennett, Coleman & Co. Ltd. All rights reserved. For reprint rights: \\n\\nTimes Syndication Service\", metadata={'source': 'https://economictimes.indiatimes.com/tata-motors-ltd/stocks/companyid-12934.cms'})"
            ]
          },
          "metadata": {},
          "execution_count": 14
        }
      ]
    },
    {
      "cell_type": "code",
      "source": [
        "data[0].metadata"
      ],
      "metadata": {
        "colab": {
          "base_uri": "https://localhost:8080/"
        },
        "id": "_OPEQIwXlGF0",
        "outputId": "7ff6ba9f-d582-43b4-d5fa-11959e197392"
      },
      "execution_count": 16,
      "outputs": [
        {
          "output_type": "execute_result",
          "data": {
            "text/plain": [
              "{'source': 'https://economictimes.indiatimes.com/tata-motors-ltd/stocks/companyid-12934.cms'}"
            ]
          },
          "metadata": {},
          "execution_count": 16
        }
      ]
    },
    {
      "cell_type": "markdown",
      "source": [
        "*Text Splitting /  Making Sizable Chunks For Process Environment & Tokenization of Chunks Is Easier*"
      ],
      "metadata": {
        "id": "gdhf3YO8lr4f"
      }
    },
    {
      "cell_type": "markdown",
      "source": [
        "Why Text Spiltting : LLM's have token limits. Hence we need to split the text which can be large into small chunks so that each chunk size is under the token limit. There are various text splitter classes in langchain that allows us to do this."
      ],
      "metadata": {
        "id": "jgFgr-ZJmDyW"
      }
    },
    {
      "cell_type": "code",
      "source": [
        "from langchain.text_splitter import CharacterTextSplitter\n",
        "\n",
        "splitter = CharacterTextSplitter(\n",
        "    separator = \"\\n\",\n",
        "    chunk_size=200,\n",
        "    chunk_overlap=0\n",
        ")"
      ],
      "metadata": {
        "id": "Yju0b_oZlK-R"
      },
      "execution_count": 17,
      "outputs": []
    },
    {
      "cell_type": "code",
      "source": [
        "text = \"\"\"Interstellar is a 2014 epic science fiction film co-written, directed, and produced by Christopher Nolan.\n",
        "It stars Matthew McConaughey, Anne Hathaway, Jessica Chastain, Bill Irwin, Ellen Burstyn, Matt Damon, and Michael Caine.\n",
        "Set in a dystopian future where humanity is embroiled in a catastrophic blight and famine, the film follows a group of astronauts who travel through a wormhole near Saturn in search of a new home for humankind.\n",
        "\n",
        "Brothers Christopher and Jonathan Nolan wrote the screenplay, which had its origins in a script Jonathan developed in 2007 and was originally set to be directed by Steven Spielberg.\n",
        "Kip Thorne, a Caltech theoretical physicist and 2017 Nobel laureate in Physics,[4] was an executive producer, acted as a scientific consultant, and wrote a tie-in book, The Science of Interstellar.\n",
        "Cinematographer Hoyte van Hoytema shot it on 35 mm movie film in the Panavision anamorphic format and IMAX 70 mm. Principal photography began in late 2013 and took place in Alberta, Iceland, and Los Angeles.\n",
        "Interstellar uses extensive practical and miniature effects, and the company Double Negative created additional digital effects.\n",
        "\n",
        "Interstellar premiered in Los Angeles on October 26, 2014. In the United States, it was first released on film stock, expanding to venues using digital projectors. The film received generally positive reviews from critics and grossed over $677 million worldwide ($715 million after subsequent re-releases), making it the tenth-highest-grossing film of 2014.\n",
        "It has been praised by astronomers for its scientific accuracy and portrayal of theoretical astrophysics.[5][6]\"\"\""
      ],
      "metadata": {
        "id": "M5OXCQTMpabp"
      },
      "execution_count": 23,
      "outputs": []
    },
    {
      "cell_type": "code",
      "source": [
        "chunks = splitter.split_text(text)\n",
        "len(chunks)"
      ],
      "metadata": {
        "colab": {
          "base_uri": "https://localhost:8080/"
        },
        "id": "_9e85X95pdFZ",
        "outputId": "34760130-8b6b-4d46-b6b4-d4c93e849fdf"
      },
      "execution_count": 24,
      "outputs": [
        {
          "output_type": "stream",
          "name": "stderr",
          "text": [
            "WARNING:langchain_text_splitters.base:Created a chunk of size 210, which is longer than the specified 200\n",
            "WARNING:langchain_text_splitters.base:Created a chunk of size 208, which is longer than the specified 200\n",
            "WARNING:langchain_text_splitters.base:Created a chunk of size 358, which is longer than the specified 200\n"
          ]
        },
        {
          "output_type": "execute_result",
          "data": {
            "text/plain": [
              "9"
            ]
          },
          "metadata": {},
          "execution_count": 24
        }
      ]
    },
    {
      "cell_type": "code",
      "source": [
        "for chunk in chunks:\n",
        "    print(len(chunk))"
      ],
      "metadata": {
        "colab": {
          "base_uri": "https://localhost:8080/"
        },
        "id": "6H4jZWq4pr6E",
        "outputId": "791afb89-d1eb-489e-9962-87b527814e80"
      },
      "execution_count": 25,
      "outputs": [
        {
          "output_type": "stream",
          "name": "stdout",
          "text": [
            "105\n",
            "120\n",
            "210\n",
            "181\n",
            "197\n",
            "207\n",
            "128\n",
            "357\n",
            "111\n"
          ]
        }
      ]
    },
    {
      "cell_type": "code",
      "source": [
        "text"
      ],
      "metadata": {
        "colab": {
          "base_uri": "https://localhost:8080/",
          "height": 192
        },
        "id": "YOq8YcoXqJZK",
        "outputId": "c1faf622-4edc-4259-d77f-a10577d1a86f"
      },
      "execution_count": 26,
      "outputs": [
        {
          "output_type": "execute_result",
          "data": {
            "text/plain": [
              "'Interstellar is a 2014 epic science fiction film co-written, directed, and produced by Christopher Nolan. \\nIt stars Matthew McConaughey, Anne Hathaway, Jessica Chastain, Bill Irwin, Ellen Burstyn, Matt Damon, and Michael Caine. \\nSet in a dystopian future where humanity is embroiled in a catastrophic blight and famine, the film follows a group of astronauts who travel through a wormhole near Saturn in search of a new home for humankind.\\n\\nBrothers Christopher and Jonathan Nolan wrote the screenplay, which had its origins in a script Jonathan developed in 2007 and was originally set to be directed by Steven Spielberg. \\nKip Thorne, a Caltech theoretical physicist and 2017 Nobel laureate in Physics,[4] was an executive producer, acted as a scientific consultant, and wrote a tie-in book, The Science of Interstellar. \\nCinematographer Hoyte van Hoytema shot it on 35 mm movie film in the Panavision anamorphic format and IMAX 70 mm. Principal photography began in late 2013 and took place in Alberta, Iceland, and Los Angeles. \\nInterstellar uses extensive practical and miniature effects, and the company Double Negative created additional digital effects.\\n\\nInterstellar premiered in Los Angeles on October 26, 2014. In the United States, it was first released on film stock, expanding to venues using digital projectors. The film received generally positive reviews from critics and grossed over $677 million worldwide ($715 million after subsequent re-releases), making it the tenth-highest-grossing film of 2014. \\nIt has been praised by astronomers for its scientific accuracy and portrayal of theoretical astrophysics.[5][6]'"
            ],
            "application/vnd.google.colaboratory.intrinsic+json": {
              "type": "string"
            }
          },
          "metadata": {},
          "execution_count": 26
        }
      ]
    },
    {
      "cell_type": "code",
      "source": [
        "from langchain.text_splitter import RecursiveCharacterTextSplitter\n",
        "\n",
        "r_splitter = RecursiveCharacterTextSplitter(\n",
        "    separators = [\"\\n\\n\", \"\\n\", \" \"],  # List of separators based on requirement (defaults to [\"\\n\\n\", \"\\n\", \" \"])\n",
        "    chunk_size = 200,  # size of each chunk created\n",
        "    chunk_overlap  = 0,  # size of  overlap between chunks in order to maintain the context\n",
        "    length_function = len  # Function to calculate size, currently we are using \"len\" which denotes length of string however you can pass any token counter)\n",
        ")"
      ],
      "metadata": {
        "id": "1Vtol16KqMu5"
      },
      "execution_count": 27,
      "outputs": []
    },
    {
      "cell_type": "code",
      "source": [
        "chunks = r_splitter.split_text(text)\n",
        "\n",
        "for chunk in chunks:\n",
        "    print(len(chunk))"
      ],
      "metadata": {
        "colab": {
          "base_uri": "https://localhost:8080/"
        },
        "id": "g8OjJ_WnqP3A",
        "outputId": "bdc49644-7b16-4e64-c6f0-2f43a7e70edd"
      },
      "execution_count": 28,
      "outputs": [
        {
          "output_type": "stream",
          "name": "stdout",
          "text": [
            "105\n",
            "120\n",
            "199\n",
            "10\n",
            "181\n",
            "197\n",
            "198\n",
            "8\n",
            "128\n",
            "191\n",
            "165\n",
            "111\n"
          ]
        }
      ]
    },
    {
      "cell_type": "code",
      "source": [
        "first_split = text.split(\"\\n\\n\")[0]\n",
        "first_split"
      ],
      "metadata": {
        "colab": {
          "base_uri": "https://localhost:8080/",
          "height": 104
        },
        "id": "9xiBP7JPqSgo",
        "outputId": "5719636a-91e1-49b6-bfc2-64a23389bf93"
      },
      "execution_count": 29,
      "outputs": [
        {
          "output_type": "execute_result",
          "data": {
            "text/plain": [
              "'Interstellar is a 2014 epic science fiction film co-written, directed, and produced by Christopher Nolan. \\nIt stars Matthew McConaughey, Anne Hathaway, Jessica Chastain, Bill Irwin, Ellen Burstyn, Matt Damon, and Michael Caine. \\nSet in a dystopian future where humanity is embroiled in a catastrophic blight and famine, the film follows a group of astronauts who travel through a wormhole near Saturn in search of a new home for humankind.'"
            ],
            "application/vnd.google.colaboratory.intrinsic+json": {
              "type": "string"
            }
          },
          "metadata": {},
          "execution_count": 29
        }
      ]
    },
    {
      "cell_type": "code",
      "source": [
        "len(first_split)"
      ],
      "metadata": {
        "colab": {
          "base_uri": "https://localhost:8080/"
        },
        "id": "EFXBr2vJqUYd",
        "outputId": "225cca60-a8e3-4e2a-b426-63ed9461c254"
      },
      "execution_count": 30,
      "outputs": [
        {
          "output_type": "execute_result",
          "data": {
            "text/plain": [
              "439"
            ]
          },
          "metadata": {},
          "execution_count": 30
        }
      ]
    },
    {
      "cell_type": "code",
      "source": [
        "second_split = first_split.split(\"\\n\")\n",
        "second_split"
      ],
      "metadata": {
        "colab": {
          "base_uri": "https://localhost:8080/"
        },
        "id": "4akHna12qWLi",
        "outputId": "dfcd68b0-677c-4172-812c-3f649d7f8498"
      },
      "execution_count": 31,
      "outputs": [
        {
          "output_type": "execute_result",
          "data": {
            "text/plain": [
              "['Interstellar is a 2014 epic science fiction film co-written, directed, and produced by Christopher Nolan. ',\n",
              " 'It stars Matthew McConaughey, Anne Hathaway, Jessica Chastain, Bill Irwin, Ellen Burstyn, Matt Damon, and Michael Caine. ',\n",
              " 'Set in a dystopian future where humanity is embroiled in a catastrophic blight and famine, the film follows a group of astronauts who travel through a wormhole near Saturn in search of a new home for humankind.']"
            ]
          },
          "metadata": {},
          "execution_count": 31
        }
      ]
    },
    {
      "cell_type": "code",
      "source": [
        "for split in second_split:\n",
        "    print(len(split))"
      ],
      "metadata": {
        "colab": {
          "base_uri": "https://localhost:8080/"
        },
        "id": "6LKI9A09qX4x",
        "outputId": "3635eda4-a0ba-4c48-ad32-dd501066f019"
      },
      "execution_count": 32,
      "outputs": [
        {
          "output_type": "stream",
          "name": "stdout",
          "text": [
            "106\n",
            "121\n",
            "210\n"
          ]
        }
      ]
    },
    {
      "cell_type": "code",
      "source": [
        "second_split[2]"
      ],
      "metadata": {
        "colab": {
          "base_uri": "https://localhost:8080/",
          "height": 52
        },
        "id": "aJhNhF10qZiq",
        "outputId": "c252128b-fcf9-404f-f853-465a1664c706"
      },
      "execution_count": 33,
      "outputs": [
        {
          "output_type": "execute_result",
          "data": {
            "text/plain": [
              "'Set in a dystopian future where humanity is embroiled in a catastrophic blight and famine, the film follows a group of astronauts who travel through a wormhole near Saturn in search of a new home for humankind.'"
            ],
            "application/vnd.google.colaboratory.intrinsic+json": {
              "type": "string"
            }
          },
          "metadata": {},
          "execution_count": 33
        }
      ]
    },
    {
      "cell_type": "code",
      "source": [],
      "metadata": {
        "id": "o0sKAmt3qa-s"
      },
      "execution_count": null,
      "outputs": []
    }
  ]
}